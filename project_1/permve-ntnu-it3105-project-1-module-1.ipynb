{
 "cells": [
  {
   "cell_type": "markdown",
   "metadata": {},
   "source": [
    "# IT3105 Project 1 Module 1: Using A* to solve Navigation Problems"
   ]
  },
  {
   "cell_type": "code",
   "execution_count": 10,
   "metadata": {
    "collapsed": false
   },
   "outputs": [
    {
     "data": {
      "application/javascript": [
       "\n",
       "require.config({\n",
       "    urlArgs: \"bust=\" + (new Date()).getTime()\n",
       "});\n",
       "\n",
       "require([\n",
       "    \"nbextensions/widgets/widgets/js/manager\",\n",
       "    \"widget_navigation_grid_zxc.js\"\n",
       "], function(manager, widget_navigation_grid) {\n",
       "    manager.WidgetManager.register_widget_view('NavigationGridView', widget_navigation_grid.NavigationGridView);\n",
       "});"
      ],
      "text/plain": [
       "<IPython.core.display.Javascript object>"
      ]
     },
     "metadata": {},
     "output_type": "display_data"
    }
   ],
   "source": [
    "%%javascript\n",
    "\n",
    "require.config({\n",
    "    urlArgs: \"bust=\" + (new Date()).getTime()\n",
    "});\n",
    "\n",
    "require([\n",
    "    \"nbextensions/widgets/widgets/js/manager\",\n",
    "    \"widget_navigation_grid_zxc.js\"\n",
    "], function(manager, widget_navigation_grid) {\n",
    "    manager.WidgetManager.register_widget_view('NavigationGridView', widget_navigation_grid.NavigationGridView);\n",
    "});"
   ]
  },
  {
   "cell_type": "code",
   "execution_count": 11,
   "metadata": {
    "collapsed": false
   },
   "outputs": [],
   "source": [
    "import ipywidgets as widgets\n",
    "import traitlets\n",
    "\n",
    "class NavigationGridWidget(widgets.DOMWidget):\n",
    "    _view_name = traitlets.Unicode('NavigationGridView', sync=True)\n",
    "    start_position = traitlets.CInt(42, sync=True)\n",
    "    grid_colors = traitlets.List(traitlets.Unicode,\n",
    "        [ \"#ff0000\", \"#00ff00\", \"#0000ff\",\n",
    "          \"#0000ff\", \"#ff0000\", \"#00ff00\",\n",
    "          \"#00ff00\", \"#0000ff\", \"#ff0000\" ], sync=True)\n",
    "    screen_size = traitlets.Dict({ \"x\": \"200px\", \"y\": \"200px\" }, sync=True)\n",
    "    grid_cell_size = traitlets.CFloat(20, sync=True)\n",
    "    grid_size = traitlets.Dict({ \"x\": 3, \"y\": 3}, sync=True)"
   ]
  },
  {
   "cell_type": "code",
   "execution_count": 12,
   "metadata": {
    "collapsed": false
   },
   "outputs": [],
   "source": [
    "navwidget = NavigationGridWidget()"
   ]
  },
  {
   "cell_type": "code",
   "execution_count": 13,
   "metadata": {
    "collapsed": false
   },
   "outputs": [],
   "source": [
    "navwidget.start_position = 55"
   ]
  },
  {
   "cell_type": "code",
   "execution_count": 14,
   "metadata": {
    "collapsed": false
   },
   "outputs": [],
   "source": [
    "navwidget"
   ]
  },
  {
   "cell_type": "code",
   "execution_count": null,
   "metadata": {
    "collapsed": true
   },
   "outputs": [],
   "source": []
  }
 ],
 "metadata": {
  "kernelspec": {
   "display_name": "Python 2",
   "language": "python",
   "name": "python2"
  },
  "language_info": {
   "codemirror_mode": {
    "name": "ipython",
    "version": 2
   },
   "file_extension": ".py",
   "mimetype": "text/x-python",
   "name": "python",
   "nbconvert_exporter": "python",
   "pygments_lexer": "ipython2",
   "version": "2.7.9"
  }
 },
 "nbformat": 4,
 "nbformat_minor": 0
}
